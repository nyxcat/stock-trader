{
 "cells": [
  {
   "cell_type": "markdown",
   "metadata": {},
   "source": [
    "## build a stock price predictor\n",
    "## backtesting\n",
    "## investment portfolio management"
   ]
  },
  {
   "cell_type": "code",
   "execution_count": 28,
   "metadata": {},
   "outputs": [],
   "source": [
    "import datetime\n",
    "import numpy as np\n",
    "import pandas as pd\n",
    "import matplotlib.pyplot as plt\n",
    "\n",
    "%matplotlib inline"
   ]
  },
  {
   "cell_type": "code",
   "execution_count": 18,
   "metadata": {},
   "outputs": [],
   "source": [
    "# fetch \n",
    "import pandas_datareader.data as web\n"
   ]
  },
  {
   "cell_type": "code",
   "execution_count": 19,
   "metadata": {},
   "outputs": [],
   "source": [
    "start = datetime.datetime(2014, 1, 1)\n",
    "end = datetime.datetime(2015, 1, 1)\n",
    "f = web.DataReader('AAPL', 'yahoo', start, end)"
   ]
  },
  {
   "cell_type": "code",
   "execution_count": 20,
   "metadata": {},
   "outputs": [
    {
     "data": {
      "text/html": [
       "<div>\n",
       "<style scoped>\n",
       "    .dataframe tbody tr th:only-of-type {\n",
       "        vertical-align: middle;\n",
       "    }\n",
       "\n",
       "    .dataframe tbody tr th {\n",
       "        vertical-align: top;\n",
       "    }\n",
       "\n",
       "    .dataframe thead th {\n",
       "        text-align: right;\n",
       "    }\n",
       "</style>\n",
       "<table border=\"1\" class=\"dataframe\">\n",
       "  <thead>\n",
       "    <tr style=\"text-align: right;\">\n",
       "      <th></th>\n",
       "      <th>High</th>\n",
       "      <th>Low</th>\n",
       "      <th>Open</th>\n",
       "      <th>Close</th>\n",
       "      <th>Volume</th>\n",
       "      <th>Adj Close</th>\n",
       "    </tr>\n",
       "    <tr>\n",
       "      <th>Date</th>\n",
       "      <th></th>\n",
       "      <th></th>\n",
       "      <th></th>\n",
       "      <th></th>\n",
       "      <th></th>\n",
       "      <th></th>\n",
       "    </tr>\n",
       "  </thead>\n",
       "  <tbody>\n",
       "    <tr>\n",
       "      <th>2014-01-02</th>\n",
       "      <td>79.575714</td>\n",
       "      <td>78.860001</td>\n",
       "      <td>79.382858</td>\n",
       "      <td>79.018570</td>\n",
       "      <td>58671200.0</td>\n",
       "      <td>66.964325</td>\n",
       "    </tr>\n",
       "    <tr>\n",
       "      <th>2014-01-03</th>\n",
       "      <td>79.099998</td>\n",
       "      <td>77.204285</td>\n",
       "      <td>78.980003</td>\n",
       "      <td>77.282860</td>\n",
       "      <td>98116900.0</td>\n",
       "      <td>65.493416</td>\n",
       "    </tr>\n",
       "    <tr>\n",
       "      <th>2014-01-06</th>\n",
       "      <td>78.114288</td>\n",
       "      <td>76.228569</td>\n",
       "      <td>76.778572</td>\n",
       "      <td>77.704285</td>\n",
       "      <td>103152700.0</td>\n",
       "      <td>65.850533</td>\n",
       "    </tr>\n",
       "    <tr>\n",
       "      <th>2014-01-07</th>\n",
       "      <td>77.994286</td>\n",
       "      <td>76.845711</td>\n",
       "      <td>77.760002</td>\n",
       "      <td>77.148575</td>\n",
       "      <td>79302300.0</td>\n",
       "      <td>65.379593</td>\n",
       "    </tr>\n",
       "    <tr>\n",
       "      <th>2014-01-08</th>\n",
       "      <td>77.937141</td>\n",
       "      <td>76.955711</td>\n",
       "      <td>76.972855</td>\n",
       "      <td>77.637146</td>\n",
       "      <td>64632400.0</td>\n",
       "      <td>65.793633</td>\n",
       "    </tr>\n",
       "  </tbody>\n",
       "</table>\n",
       "</div>"
      ],
      "text/plain": [
       "                 High        Low       Open      Close       Volume  Adj Close\n",
       "Date                                                                          \n",
       "2014-01-02  79.575714  78.860001  79.382858  79.018570   58671200.0  66.964325\n",
       "2014-01-03  79.099998  77.204285  78.980003  77.282860   98116900.0  65.493416\n",
       "2014-01-06  78.114288  76.228569  76.778572  77.704285  103152700.0  65.850533\n",
       "2014-01-07  77.994286  76.845711  77.760002  77.148575   79302300.0  65.379593\n",
       "2014-01-08  77.937141  76.955711  76.972855  77.637146   64632400.0  65.793633"
      ]
     },
     "execution_count": 20,
     "metadata": {},
     "output_type": "execute_result"
    }
   ],
   "source": [
    "f.head()"
   ]
  },
  {
   "cell_type": "markdown",
   "metadata": {},
   "source": [
    "# Feature Engineering\n",
    "state: holding a stock or not, bollinger band, adj close/sma, P/E ratio, return since enter market\n"
   ]
  },
  {
   "cell_type": "code",
   "execution_count": 26,
   "metadata": {},
   "outputs": [],
   "source": [
    "def get_bollinger_bands(values, window):\n",
    "    '''\n",
    "    Return upper and lower Bollinger Bands.\n",
    "    INPUTS:\n",
    "    values(pandas series)\n",
    "    window(int): time period to consider\n",
    "    OUTPUS:\n",
    "    upper_band(pandas series)\n",
    "    lower_band(pandas series)\n",
    "    '''\n",
    "    #  rolling mean\n",
    "    rm = values.rolling(window=window).mean()\n",
    "    rstd = values.rolling(window=window).std()\n",
    "    upper_band = rm + 2.* rstd\n",
    "    lower_band = rm - 2.* rstd\n",
    "    return upper_band, lower_band\n",
    "\n",
    "# get_bollinger_bands(f['Close'], 3)"
   ]
  },
  {
   "cell_type": "code",
   "execution_count": 29,
   "metadata": {},
   "outputs": [
    {
     "data": {
      "text/plain": [
       "[<matplotlib.lines.Line2D at 0x11ab72f28>]"
      ]
     },
     "execution_count": 29,
     "metadata": {},
     "output_type": "execute_result"
    },
    {
     "data": {
      "image/png": "[encoded data removed]",
      "text/plain": [
       "<Figure size 432x288 with 1 Axes>"
      ]
     },
     "metadata": {
      "needs_background": "light"
     },
     "output_type": "display_data"
    }
   ],
   "source": [
    "def get_adj_close_sma_ratio(values, window):\n",
    "    '''\n",
    "    Return the ratio of adjusted closing value to the simple moving average.\n",
    "    INPUTS:\n",
    "    values(pandas series)\n",
    "    window(int): time period to consider\n",
    "    OUTPUS:\n",
    "    '''\n",
    "    rm = values.rolling(window=window).mean()\n",
    "    ratio = values/rm\n",
    "    return ratio\n",
    "\n",
    "plt.plot(get_adj_close_sma_ratio(f['Close'], 3))"
   ]
  },
  {
   "cell_type": "code",
   "execution_count": 63,
   "metadata": {},
   "outputs": [],
   "source": [
    "def act(q_mat, state, prob=0.3):\n",
    "    # decide decision making strategies\n",
    "    c = np.random.choice(a=[0,1], p=[prob, 1-prob])\n",
    "    \n",
    "    if c == 0: # make random decisions\n",
    "        action = np.random.randint(low=0, high=3)\n",
    "        print('Picking random action {}'.format(action))\n",
    "    else: # choose the action with the max value\n",
    "        action = q_mat.loc[state].values.argmax()\n",
    "        print('Picking max action {}'.format(action))\n",
    "    return action"
   ]
  },
  {
   "cell_type": "code",
   "execution_count": 103,
   "metadata": {},
   "outputs": [],
   "source": [
    "actions_list = [0,1,2] # 0 hold, 1 buy, 2 sell\n",
    "states_list = f.iloc[:14, 0].values.tolist()"
   ]
  },
  {
   "cell_type": "code",
   "execution_count": 104,
   "metadata": {},
   "outputs": [],
   "source": [
    "def initialize_q_mat(states_list, actions_list):\n",
    "    state_size = len(states_list)\n",
    "    action_size = len(actions_list)\n",
    "    \n",
    "    q_mat = np.random.rand(state_size, action_size)\n",
    "    q_mat = pd.DataFrame(q_mat, columns=actions_list)\n",
    "    q_mat['state'] = states_list\n",
    "    q_mat.set_index('state', inplace=True)\n",
    "    \n",
    "    return q_mat"
   ]
  },
  {
   "cell_type": "code",
   "execution_count": 102,
   "metadata": {},
   "outputs": [],
   "source": [
    "def update_shares(action, num_shares):\n",
    "    if action == 0:\n",
    "        return num_shares\n",
    "    elif action == 1:\n",
    "        return num_shares + 1\n",
    "    else:\n",
    "        return num_shares - 1"
   ]
  },
  {
   "cell_type": "code",
   "execution_count": 126,
   "metadata": {},
   "outputs": [],
   "source": [
    "def get_reward(q, action, state, num_shares, portfolio_value=0, bought_price=None):\n",
    "    states_list = np.array(q.index)\n",
    "    if action == 0: # hold\n",
    "        if num_shares > 0:\n",
    "            current_state_idx = np.where(states_list == state)[0][0]\n",
    "            last_state = states_list[current_state_idx-1]\n",
    "            reward = state - last_state # daily return\n",
    "            portfolio_value += reward\n",
    "            print('holding {} shares, reward {}, portfolio value {}'.format(num_shares, reward, portfolio_value))\n",
    "        else:\n",
    "            reward = 0\n",
    "            print('no share holdings, reward {}, portfolio value {}'.format(reward, portfolio_value))\n",
    "    if action == 1: # buy\n",
    "        reward = 0\n",
    "        bought_price = state\n",
    "        print('buy at price {}, reward {}, portfolio value {}'.format(bought_price, reward, portfolio_value))\n",
    "    if action == 2: # sell\n",
    "        if num_shares > 0: \n",
    "            reward = state - bought_price\n",
    "            print('sell reward {}, portfolio value {}'.format(reward, portfolio_value))\n",
    "        else:\n",
    "            reward = 0\n",
    "            print('no share holdings, can not sell, portfolio value {}'.format(portfolio_value))\n",
    "    return bought_price, reward"
   ]
  },
  {
   "cell_type": "code",
   "execution_count": 127,
   "metadata": {},
   "outputs": [],
   "source": [
    "def update_q_mat():\n",
    "    pass"
   ]
  },
  {
   "cell_type": "code",
   "execution_count": 132,
   "metadata": {},
   "outputs": [],
   "source": [
    "actions_dict = {0:'hold', 1:'buy', 2:'sell'}"
   ]
  },
  {
   "cell_type": "code",
   "execution_count": 134,
   "metadata": {},
   "outputs": [
    {
     "name": "stdout",
     "output_type": "stream",
     "text": [
      "initial Q matrix \n",
      "                  0         1         2\n",
      "state                                  \n",
      "79.575714  0.457578  0.614699  0.992037\n",
      "79.099998  0.264457  0.595415  0.508099\n",
      "78.114288  0.321906  0.499966  0.492854\n",
      "77.994286  0.857183  0.751452  0.399284\n",
      "77.937141  0.336011  0.034928  0.447307\n",
      "78.122856  0.596925  0.846148  0.531282\n",
      "77.257141  0.378840  0.603138  0.354245\n",
      "77.500000  0.655424  0.202432  0.972586\n",
      "78.104286  0.420516  0.494565  0.169811\n",
      "80.028572  0.840263  0.863705  0.579548\n",
      "79.550003  0.028879  0.133191  0.449454\n",
      "78.867142  0.669015  0.550273  0.181419\n",
      "78.581429  0.818972  0.545303  0.521355\n",
      "79.612854  0.124163  0.637255  0.804321\n",
      "start state 79.0999984741211\n",
      "Picking random action 1\n",
      "taking action 1 buy\n",
      "buy at price 79.0999984741211, reward 0, portfolio value 10\n",
      "updated number of share holding: 1\n",
      "start state 78.11428833007812\n",
      "Picking max action 1\n",
      "taking action 1 buy\n",
      "buy at price 79.0999984741211, reward 0, portfolio value 10\n",
      "updated number of share holding: 2\n",
      "start state 77.9942855834961\n",
      "Picking random action 1\n",
      "taking action 1 buy\n",
      "buy at price 79.0999984741211, reward 0, portfolio value 10\n",
      "updated number of share holding: 3\n",
      "start state 77.93714141845703\n",
      "Picking random action 2\n",
      "taking action 2 sell\n",
      "sell reward 0.0, portfolio value 10\n",
      "updated number of share holding: 2\n",
      "start state 78.12285614013672\n",
      "Picking max action 1\n",
      "taking action 1 buy\n",
      "buy at price 79.0999984741211, reward 0, portfolio value 10\n",
      "updated number of share holding: 3\n",
      "start state 77.25714111328125\n",
      "Picking random action 1\n",
      "taking action 1 buy\n",
      "buy at price 79.0999984741211, reward 0, portfolio value 10\n",
      "updated number of share holding: 4\n",
      "start state 77.5\n",
      "Picking random action 1\n",
      "taking action 1 buy\n",
      "buy at price 79.0999984741211, reward 0, portfolio value 10\n",
      "updated number of share holding: 5\n",
      "start state 78.10428619384766\n",
      "Picking max action 1\n",
      "taking action 1 buy\n",
      "buy at price 79.0999984741211, reward 0, portfolio value 10\n",
      "updated number of share holding: 6\n",
      "start state 80.02857208251953\n",
      "Picking max action 1\n",
      "taking action 1 buy\n",
      "buy at price 79.0999984741211, reward 0, portfolio value 10\n",
      "updated number of share holding: 7\n",
      "start state 79.55000305175781\n",
      "Picking max action 2\n",
      "taking action 2 sell\n",
      "sell reward 0.0, portfolio value 10\n",
      "updated number of share holding: 6\n",
      "start state 78.86714172363281\n",
      "Picking random action 0\n",
      "taking action 0 hold\n",
      "holding 6 shares, reward -0.47571563720703125, portfolio value 9.524284362792969\n",
      "updated number of share holding: 6\n",
      "start state 78.58142852783203\n",
      "Picking max action 0\n",
      "taking action 0 hold\n",
      "holding 6 shares, reward -0.47571563720703125, portfolio value 9.524284362792969\n",
      "updated number of share holding: 6\n",
      "start state 79.61285400390625\n",
      "Picking random action 0\n",
      "taking action 0 hold\n",
      "holding 6 shares, reward -0.47571563720703125, portfolio value 9.524284362792969\n",
      "updated number of share holding: 6\n"
     ]
    }
   ],
   "source": [
    "q = initialize_q_mat(states_list, actions_list)\n",
    "print('initial Q matrix \\n{}'.format(q))\n",
    "# start_state = states_list[1]\n",
    "num_shares = 0\n",
    "bought_price = None\n",
    "\n",
    "for i in range(1, len(states_list)):\n",
    "    state = states_list[i]\n",
    "    print('start state {}'.format(state))\n",
    "    action = act(q, state)\n",
    "    print('taking action {} {}'.format(action, actions_dict[action]))\n",
    "    \n",
    "    bought_price, reward = get_reward(q, action, start_state, num_shares, 10, bought_price)\n",
    "    num_shares = update_shares(action, num_shares)\n",
    "    print('updated number of share holding: {}'.format(num_shares))"
   ]
  },
  {
   "cell_type": "code",
   "execution_count": null,
   "metadata": {},
   "outputs": [],
   "source": []
  },
  {
   "cell_type": "code",
   "execution_count": null,
   "metadata": {},
   "outputs": [],
   "source": []
  }
 ],
 "metadata": {
  "kernelspec": {
   "display_name": "Python 3",
   "language": "python",
   "name": "python3"
  },
  "language_info": {
   "codemirror_mode": {
    "name": "ipython",
    "version": 3
   },
   "file_extension": ".py",
   "mimetype": "text/x-python",
   "name": "python",
   "nbconvert_exporter": "python",
   "pygments_lexer": "ipython3",
   "version": "3.6.7"
  }
 },
 "nbformat": 4,
 "nbformat_minor": 2
}

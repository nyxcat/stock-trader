{
 "cells": [
  {
   "cell_type": "markdown",
   "metadata": {},
   "source": [
    "## build a stock price predictor\n",
    "## backtesting\n",
    "## investment portfolio management"
   ]
  },
  {
   "cell_type": "code",
   "execution_count": 3,
   "metadata": {},
   "outputs": [],
   "source": [
    "import datetime\n",
    "import numpy as np\n",
    "import pandas as pd\n",
    "import matplotlib.pyplot as plt\n",
    "\n",
    "import pandas_datareader.data as web # fetch stock data\n",
    "\n",
    "%matplotlib inline"
   ]
  },
  {
   "cell_type": "code",
   "execution_count": 142,
   "metadata": {},
   "outputs": [],
   "source": [
    "start = datetime.datetime(2014, 1, 1)\n",
    "end = datetime.datetime(2015, 1, 1)\n",
    "f = web.DataReader('AAPL', 'yahoo', start, end)"
   ]
  },
  {
   "cell_type": "code",
   "execution_count": 143,
   "metadata": {},
   "outputs": [
    {
     "data": {
      "text/html": [
       "<div>\n",
       "<style scoped>\n",
       "    .dataframe tbody tr th:only-of-type {\n",
       "        vertical-align: middle;\n",
       "    }\n",
       "\n",
       "    .dataframe tbody tr th {\n",
       "        vertical-align: top;\n",
       "    }\n",
       "\n",
       "    .dataframe thead th {\n",
       "        text-align: right;\n",
       "    }\n",
       "</style>\n",
       "<table border=\"1\" class=\"dataframe\">\n",
       "  <thead>\n",
       "    <tr style=\"text-align: right;\">\n",
       "      <th></th>\n",
       "      <th>High</th>\n",
       "      <th>Low</th>\n",
       "      <th>Open</th>\n",
       "      <th>Close</th>\n",
       "      <th>Volume</th>\n",
       "      <th>Adj Close</th>\n",
       "    </tr>\n",
       "    <tr>\n",
       "      <th>Date</th>\n",
       "      <th></th>\n",
       "      <th></th>\n",
       "      <th></th>\n",
       "      <th></th>\n",
       "      <th></th>\n",
       "      <th></th>\n",
       "    </tr>\n",
       "  </thead>\n",
       "  <tbody>\n",
       "    <tr>\n",
       "      <th>2014-01-02</th>\n",
       "      <td>79.575714</td>\n",
       "      <td>78.860001</td>\n",
       "      <td>79.382858</td>\n",
       "      <td>79.018570</td>\n",
       "      <td>58671200.0</td>\n",
       "      <td>66.964325</td>\n",
       "    </tr>\n",
       "    <tr>\n",
       "      <th>2014-01-03</th>\n",
       "      <td>79.099998</td>\n",
       "      <td>77.204285</td>\n",
       "      <td>78.980003</td>\n",
       "      <td>77.282860</td>\n",
       "      <td>98116900.0</td>\n",
       "      <td>65.493416</td>\n",
       "    </tr>\n",
       "    <tr>\n",
       "      <th>2014-01-06</th>\n",
       "      <td>78.114288</td>\n",
       "      <td>76.228569</td>\n",
       "      <td>76.778572</td>\n",
       "      <td>77.704285</td>\n",
       "      <td>103152700.0</td>\n",
       "      <td>65.850533</td>\n",
       "    </tr>\n",
       "    <tr>\n",
       "      <th>2014-01-07</th>\n",
       "      <td>77.994286</td>\n",
       "      <td>76.845711</td>\n",
       "      <td>77.760002</td>\n",
       "      <td>77.148575</td>\n",
       "      <td>79302300.0</td>\n",
       "      <td>65.379593</td>\n",
       "    </tr>\n",
       "    <tr>\n",
       "      <th>2014-01-08</th>\n",
       "      <td>77.937141</td>\n",
       "      <td>76.955711</td>\n",
       "      <td>76.972855</td>\n",
       "      <td>77.637146</td>\n",
       "      <td>64632400.0</td>\n",
       "      <td>65.793633</td>\n",
       "    </tr>\n",
       "  </tbody>\n",
       "</table>\n",
       "</div>"
      ],
      "text/plain": [
       "                 High        Low       Open      Close       Volume  Adj Close\n",
       "Date                                                                          \n",
       "2014-01-02  79.575714  78.860001  79.382858  79.018570   58671200.0  66.964325\n",
       "2014-01-03  79.099998  77.204285  78.980003  77.282860   98116900.0  65.493416\n",
       "2014-01-06  78.114288  76.228569  76.778572  77.704285  103152700.0  65.850533\n",
       "2014-01-07  77.994286  76.845711  77.760002  77.148575   79302300.0  65.379593\n",
       "2014-01-08  77.937141  76.955711  76.972855  77.637146   64632400.0  65.793633"
      ]
     },
     "execution_count": 143,
     "metadata": {},
     "output_type": "execute_result"
    }
   ],
   "source": [
    "f.head()"
   ]
  },
  {
   "cell_type": "code",
   "execution_count": 144,
   "metadata": {},
   "outputs": [],
   "source": [
    "# format stock data, round to 2 decimal place\n",
    "def format_data(df=f):\n",
    "    columns = df.columns\n",
    "    for col in columns:\n",
    "        df[col] = df[col].apply(lambda x: round(x,5))\n",
    "    return df\n",
    "\n",
    "f = format_data(f)"
   ]
  },
  {
   "cell_type": "code",
   "execution_count": 145,
   "metadata": {},
   "outputs": [
    {
     "data": {
      "text/html": [
       "<div>\n",
       "<style scoped>\n",
       "    .dataframe tbody tr th:only-of-type {\n",
       "        vertical-align: middle;\n",
       "    }\n",
       "\n",
       "    .dataframe tbody tr th {\n",
       "        vertical-align: top;\n",
       "    }\n",
       "\n",
       "    .dataframe thead th {\n",
       "        text-align: right;\n",
       "    }\n",
       "</style>\n",
       "<table border=\"1\" class=\"dataframe\">\n",
       "  <thead>\n",
       "    <tr style=\"text-align: right;\">\n",
       "      <th></th>\n",
       "      <th>High</th>\n",
       "      <th>Low</th>\n",
       "      <th>Open</th>\n",
       "      <th>Close</th>\n",
       "      <th>Volume</th>\n",
       "      <th>Adj Close</th>\n",
       "    </tr>\n",
       "    <tr>\n",
       "      <th>Date</th>\n",
       "      <th></th>\n",
       "      <th></th>\n",
       "      <th></th>\n",
       "      <th></th>\n",
       "      <th></th>\n",
       "      <th></th>\n",
       "    </tr>\n",
       "  </thead>\n",
       "  <tbody>\n",
       "    <tr>\n",
       "      <th>2014-01-02</th>\n",
       "      <td>79.57571</td>\n",
       "      <td>78.86000</td>\n",
       "      <td>79.38286</td>\n",
       "      <td>79.01857</td>\n",
       "      <td>58671200.0</td>\n",
       "      <td>66.96432</td>\n",
       "    </tr>\n",
       "    <tr>\n",
       "      <th>2014-01-03</th>\n",
       "      <td>79.10000</td>\n",
       "      <td>77.20428</td>\n",
       "      <td>78.98000</td>\n",
       "      <td>77.28286</td>\n",
       "      <td>98116900.0</td>\n",
       "      <td>65.49342</td>\n",
       "    </tr>\n",
       "    <tr>\n",
       "      <th>2014-01-06</th>\n",
       "      <td>78.11429</td>\n",
       "      <td>76.22857</td>\n",
       "      <td>76.77857</td>\n",
       "      <td>77.70428</td>\n",
       "      <td>103152700.0</td>\n",
       "      <td>65.85053</td>\n",
       "    </tr>\n",
       "    <tr>\n",
       "      <th>2014-01-07</th>\n",
       "      <td>77.99429</td>\n",
       "      <td>76.84571</td>\n",
       "      <td>77.76000</td>\n",
       "      <td>77.14857</td>\n",
       "      <td>79302300.0</td>\n",
       "      <td>65.37959</td>\n",
       "    </tr>\n",
       "    <tr>\n",
       "      <th>2014-01-08</th>\n",
       "      <td>77.93714</td>\n",
       "      <td>76.95571</td>\n",
       "      <td>76.97285</td>\n",
       "      <td>77.63715</td>\n",
       "      <td>64632400.0</td>\n",
       "      <td>65.79363</td>\n",
       "    </tr>\n",
       "  </tbody>\n",
       "</table>\n",
       "</div>"
      ],
      "text/plain": [
       "                High       Low      Open     Close       Volume  Adj Close\n",
       "Date                                                                      \n",
       "2014-01-02  79.57571  78.86000  79.38286  79.01857   58671200.0   66.96432\n",
       "2014-01-03  79.10000  77.20428  78.98000  77.28286   98116900.0   65.49342\n",
       "2014-01-06  78.11429  76.22857  76.77857  77.70428  103152700.0   65.85053\n",
       "2014-01-07  77.99429  76.84571  77.76000  77.14857   79302300.0   65.37959\n",
       "2014-01-08  77.93714  76.95571  76.97285  77.63715   64632400.0   65.79363"
      ]
     },
     "execution_count": 145,
     "metadata": {},
     "output_type": "execute_result"
    }
   ],
   "source": [
    "f.head()"
   ]
  },
  {
   "cell_type": "markdown",
   "metadata": {},
   "source": [
    "# Feature Engineering\n",
    "state: holding a stock or not, bollinger band, adj close/sma, P/E ratio, return since enter market\n"
   ]
  },
  {
   "cell_type": "code",
   "execution_count": 168,
   "metadata": {},
   "outputs": [
    {
     "data": {
      "image/png": "[encoded data removed]",
      "text/plain": [
       "<Figure size 432x288 with 1 Axes>"
      ]
     },
     "metadata": {
      "needs_background": "light"
     },
     "output_type": "display_data"
    }
   ],
   "source": [
    "def get_bollinger_bands(values, window):\n",
    "    '''\n",
    "    Return upper and lower Bollinger Bands.\n",
    "    INPUTS:\n",
    "    values(pandas series)\n",
    "    window(int): time period to consider\n",
    "    OUTPUS:\n",
    "    upper_band(pandas series)\n",
    "    lower_band(pandas series)\n",
    "    '''\n",
    "    #  rolling mean\n",
    "    rm = values.rolling(window=window).mean()\n",
    "    rstd = values.rolling(window=window).std()\n",
    "    \n",
    "    band_width = 2. * rstd / rm\n",
    "    return band_width.apply(lambda x: round(x,5))\n",
    "\n",
    "plt.plot(get_bollinger_bands(f['Close'], 3));\n",
    "\n",
    "bb_width = get_bollinger_bands(f['Close'], 3)"
   ]
  },
  {
   "cell_type": "code",
   "execution_count": 149,
   "metadata": {},
   "outputs": [
    {
     "data": {
      "image/png": "[encoded data removed]",
      "text/plain": [
       "<Figure size 432x288 with 1 Axes>"
      ]
     },
     "metadata": {
      "needs_background": "light"
     },
     "output_type": "display_data"
    }
   ],
   "source": [
    "def get_adj_close_sma_ratio(values, window):\n",
    "    '''\n",
    "    Return the ratio of adjusted closing value to the simple moving average.\n",
    "    INPUTS:\n",
    "    values(pandas series)\n",
    "    window(int): time period to consider\n",
    "    OUTPUS:\n",
    "    '''\n",
    "    rm = values.rolling(window=window).mean()\n",
    "    ratio = values/rm\n",
    "    return ratio.apply(lambda x: round(x,5))\n",
    "\n",
    "plt.plot(get_adj_close_sma_ratio(f['Close'], 3));\n",
    "\n",
    "close_sma_ratio = get_adj_close_sma_ratio(f['Close'], 3)"
   ]
  },
  {
   "cell_type": "code",
   "execution_count": 153,
   "metadata": {},
   "outputs": [],
   "source": [
    "def discretize(values, num_states=5):\n",
    "    '''\n",
    "    Convert continuous values to integer state\n",
    "    '''\n",
    "    states_value = dict()\n",
    "    \n",
    "    step_size = 1./num_states\n",
    "    for i in range(num_states):\n",
    "        # print((i+1)*step_size)\n",
    "        if i == num_states - 1:\n",
    "            states_value[i] = values.max()\n",
    "        else:\n",
    "            states_value[i] = round(values.quantile((i+1)*step_size), 5)\n",
    "    return states_value"
   ]
  },
  {
   "cell_type": "code",
   "execution_count": null,
   "metadata": {},
   "outputs": [],
   "source": []
  },
  {
   "cell_type": "code",
   "execution_count": 155,
   "metadata": {},
   "outputs": [
    {
     "data": {
      "text/plain": [
       "{0: 0.00745, 1: 0.01235, 2: 0.01724, 3: 0.02398, 4: 0.10483}"
      ]
     },
     "execution_count": 155,
     "metadata": {},
     "output_type": "execute_result"
    }
   ],
   "source": [
    "bb_states_value = discretize(bb_width)\n",
    "bb_states_value"
   ]
  },
  {
   "cell_type": "code",
   "execution_count": 156,
   "metadata": {},
   "outputs": [
    {
     "data": {
      "text/plain": [
       "{0: 0.99484, 1: 0.99985, 2: 1.00384, 3: 1.00871, 4: 1.04869}"
      ]
     },
     "execution_count": 156,
     "metadata": {},
     "output_type": "execute_result"
    }
   ],
   "source": [
    "close_sma_ratio_states_value = discretize(close_sma_ratio)\n",
    "close_sma_ratio_states_value"
   ]
  },
  {
   "cell_type": "code",
   "execution_count": 160,
   "metadata": {},
   "outputs": [],
   "source": [
    "def value_to_state(value, states_value):\n",
    "    # print(states_value)\n",
    "    if np.isnan(value):\n",
    "        return np.nan\n",
    "    else:\n",
    "        for state, v in states_value.items():\n",
    "            if value <= v:\n",
    "                return str(state)\n",
    "        return 'value out of range'"
   ]
  },
  {
   "cell_type": "code",
   "execution_count": 161,
   "metadata": {},
   "outputs": [
    {
     "data": {
      "text/html": [
       "<div>\n",
       "<style scoped>\n",
       "    .dataframe tbody tr th:only-of-type {\n",
       "        vertical-align: middle;\n",
       "    }\n",
       "\n",
       "    .dataframe tbody tr th {\n",
       "        vertical-align: top;\n",
       "    }\n",
       "\n",
       "    .dataframe thead th {\n",
       "        text-align: right;\n",
       "    }\n",
       "</style>\n",
       "<table border=\"1\" class=\"dataframe\">\n",
       "  <thead>\n",
       "    <tr style=\"text-align: right;\">\n",
       "      <th></th>\n",
       "      <th>High</th>\n",
       "      <th>Low</th>\n",
       "      <th>Open</th>\n",
       "      <th>Close</th>\n",
       "      <th>Volume</th>\n",
       "      <th>Adj Close</th>\n",
       "      <th>bb_width</th>\n",
       "      <th>bb_width_state</th>\n",
       "      <th>close_sma_ratio</th>\n",
       "      <th>close_sma_ratio_state</th>\n",
       "    </tr>\n",
       "    <tr>\n",
       "      <th>Date</th>\n",
       "      <th></th>\n",
       "      <th></th>\n",
       "      <th></th>\n",
       "      <th></th>\n",
       "      <th></th>\n",
       "      <th></th>\n",
       "      <th></th>\n",
       "      <th></th>\n",
       "      <th></th>\n",
       "      <th></th>\n",
       "    </tr>\n",
       "  </thead>\n",
       "  <tbody>\n",
       "    <tr>\n",
       "      <th>2014-01-02</th>\n",
       "      <td>79.57571</td>\n",
       "      <td>78.86000</td>\n",
       "      <td>79.38286</td>\n",
       "      <td>79.01857</td>\n",
       "      <td>58671200.0</td>\n",
       "      <td>66.96432</td>\n",
       "      <td>NaN</td>\n",
       "      <td>NaN</td>\n",
       "      <td>NaN</td>\n",
       "      <td>NaN</td>\n",
       "    </tr>\n",
       "    <tr>\n",
       "      <th>2014-01-03</th>\n",
       "      <td>79.10000</td>\n",
       "      <td>77.20428</td>\n",
       "      <td>78.98000</td>\n",
       "      <td>77.28286</td>\n",
       "      <td>98116900.0</td>\n",
       "      <td>65.49342</td>\n",
       "      <td>NaN</td>\n",
       "      <td>NaN</td>\n",
       "      <td>NaN</td>\n",
       "      <td>NaN</td>\n",
       "    </tr>\n",
       "    <tr>\n",
       "      <th>2014-01-06</th>\n",
       "      <td>78.11429</td>\n",
       "      <td>76.22857</td>\n",
       "      <td>76.77857</td>\n",
       "      <td>77.70428</td>\n",
       "      <td>103152700.0</td>\n",
       "      <td>65.85053</td>\n",
       "      <td>0.02321</td>\n",
       "      <td>3</td>\n",
       "      <td>0.99618</td>\n",
       "      <td>1</td>\n",
       "    </tr>\n",
       "    <tr>\n",
       "      <th>2014-01-07</th>\n",
       "      <td>77.99429</td>\n",
       "      <td>76.84571</td>\n",
       "      <td>77.76000</td>\n",
       "      <td>77.14857</td>\n",
       "      <td>79302300.0</td>\n",
       "      <td>65.37959</td>\n",
       "      <td>0.00749</td>\n",
       "      <td>1</td>\n",
       "      <td>0.99703</td>\n",
       "      <td>1</td>\n",
       "    </tr>\n",
       "    <tr>\n",
       "      <th>2014-01-08</th>\n",
       "      <td>77.93714</td>\n",
       "      <td>76.95571</td>\n",
       "      <td>76.97285</td>\n",
       "      <td>77.63715</td>\n",
       "      <td>64632400.0</td>\n",
       "      <td>65.79363</td>\n",
       "      <td>0.00783</td>\n",
       "      <td>1</td>\n",
       "      <td>1.00181</td>\n",
       "      <td>2</td>\n",
       "    </tr>\n",
       "  </tbody>\n",
       "</table>\n",
       "</div>"
      ],
      "text/plain": [
       "                High       Low      Open     Close       Volume  Adj Close  \\\n",
       "Date                                                                         \n",
       "2014-01-02  79.57571  78.86000  79.38286  79.01857   58671200.0   66.96432   \n",
       "2014-01-03  79.10000  77.20428  78.98000  77.28286   98116900.0   65.49342   \n",
       "2014-01-06  78.11429  76.22857  76.77857  77.70428  103152700.0   65.85053   \n",
       "2014-01-07  77.99429  76.84571  77.76000  77.14857   79302300.0   65.37959   \n",
       "2014-01-08  77.93714  76.95571  76.97285  77.63715   64632400.0   65.79363   \n",
       "\n",
       "            bb_width bb_width_state  close_sma_ratio close_sma_ratio_state  \n",
       "Date                                                                        \n",
       "2014-01-02       NaN            NaN              NaN                   NaN  \n",
       "2014-01-03       NaN            NaN              NaN                   NaN  \n",
       "2014-01-06   0.02321              3          0.99618                     1  \n",
       "2014-01-07   0.00749              1          0.99703                     1  \n",
       "2014-01-08   0.00783              1          1.00181                     2  "
      ]
     },
     "execution_count": 161,
     "metadata": {},
     "output_type": "execute_result"
    }
   ],
   "source": [
    "f['bb_width'] = bb_width\n",
    "f['bb_width_state'] = f['bb_width'].apply(lambda x : value_to_state(x, bb_states_value))\n",
    "f['close_sma_ratio'] = close_sma_ratio\n",
    "f['close_sma_ratio_state'] = f['close_sma_ratio'].apply(lambda x : value_to_state(x, close_sma_ratio_states_value))\n",
    "f.head(5)"
   ]
  },
  {
   "cell_type": "code",
   "execution_count": 165,
   "metadata": {},
   "outputs": [],
   "source": [
    "def get_all_states(bb_states_value, close_sma_ratio_states_value):\n",
    "    states = []\n",
    "    \n",
    "    for h in [0,1]:\n",
    "        for c, _ in close_sma_ratio_states_value.items():\n",
    "            for b, _ in bb_states_value.items():\n",
    "                state = str(h) + str(c) + str(b)\n",
    "                states.append(str(state))\n",
    "    \n",
    "    return states\n",
    "\n",
    "all_states = get_all_states(bb_states_value, close_sma_ratio_states_value)\n",
    "states_size = len(all_states)\n"
   ]
  },
  {
   "cell_type": "code",
   "execution_count": 166,
   "metadata": {},
   "outputs": [
    {
     "data": {
      "text/plain": [
       "50"
      ]
     },
     "execution_count": 166,
     "metadata": {},
     "output_type": "execute_result"
    }
   ],
   "source": [
    "states_size"
   ]
  },
  {
   "cell_type": "code",
   "execution_count": null,
   "metadata": {},
   "outputs": [],
   "source": []
  }
 ],
 "metadata": {
  "kernelspec": {
   "display_name": "Python 3",
   "language": "python",
   "name": "python3"
  },
  "language_info": {
   "codemirror_mode": {
    "name": "ipython",
    "version": 3
   },
   "file_extension": ".py",
   "mimetype": "text/x-python",
   "name": "python",
   "nbconvert_exporter": "python",
   "pygments_lexer": "ipython3",
   "version": "3.6.7"
  }
 },
 "nbformat": 4,
 "nbformat_minor": 2
}
